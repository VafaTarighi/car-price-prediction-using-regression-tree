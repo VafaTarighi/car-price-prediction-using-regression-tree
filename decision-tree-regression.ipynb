{
 "cells": [
  {
   "cell_type": "code",
   "execution_count": null,
   "metadata": {},
   "outputs": [],
   "source": []
  }
 ],
 "metadata": {
  "kernelspec": {
   "display_name": "Python 3.9.2 ('env': venv)",
   "language": "python",
   "name": "python3"
  },
  "language_info": {
   "name": "python",
   "version": "3.9.2"
  },
  "orig_nbformat": 4,
  "vscode": {
   "interpreter": {
    "hash": "09d2a3776f254ed0e7de73e53aa29f45a8db66ed6d46656c6145ee6e317c722a"
   }
  }
 },
 "nbformat": 4,
 "nbformat_minor": 2
}
